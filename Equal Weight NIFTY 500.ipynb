{
 "cells": [
  {
   "cell_type": "markdown",
   "metadata": {},
   "source": [
    "# Equal-Weight NIFTY 500 Index Fund\n",
    "\n",
    "## Introduction & Library Imports\n",
    "\n",
    "The goal of this projrct is to create a Python script that will accept the value of your portfolio and tell you how many shares of each NIFTY 500 constituent you should purchase to get an equal-weight version of the index fund.\n",
    "\n",
    "## Library Imports\n",
    "\n",
    "The first thing we need to do is import the open-source software libraries that we'll be using in this project."
   ]
  },
  {
   "cell_type": "code",
   "execution_count": 1,
   "metadata": {},
   "outputs": [],
   "source": [
    "import numpy as np\n",
    "import pandas as pd\n",
    "import requests\n",
    "import xlsxwriter\n",
    "import math"
   ]
  },
  {
   "cell_type": "markdown",
   "metadata": {},
   "source": [
    "## Importing Our List of Stocks\n",
    "\n",
    "The next thing we need to do is import the constituents of the NIFTY 500.\n",
    "\n",
    "The list of NIFTY 500 constituents is regularly updated on NSE India's site. [Click this link to download them now](https://archives.nseindia.com/content/indices/ind_nifty500list.csv). Now we can import our stocks list here."
   ]
  },
  {
   "cell_type": "code",
   "execution_count": 2,
   "metadata": {},
   "outputs": [
    {
     "data": {
      "text/html": [
       "<div>\n",
       "<style scoped>\n",
       "    .dataframe tbody tr th:only-of-type {\n",
       "        vertical-align: middle;\n",
       "    }\n",
       "\n",
       "    .dataframe tbody tr th {\n",
       "        vertical-align: top;\n",
       "    }\n",
       "\n",
       "    .dataframe thead th {\n",
       "        text-align: right;\n",
       "    }\n",
       "</style>\n",
       "<table border=\"1\" class=\"dataframe\">\n",
       "  <thead>\n",
       "    <tr style=\"text-align: right;\">\n",
       "      <th></th>\n",
       "      <th>Symbol</th>\n",
       "    </tr>\n",
       "  </thead>\n",
       "  <tbody>\n",
       "    <tr>\n",
       "      <th>0</th>\n",
       "      <td>3MINDIA</td>\n",
       "    </tr>\n",
       "    <tr>\n",
       "      <th>1</th>\n",
       "      <td>ABB</td>\n",
       "    </tr>\n",
       "    <tr>\n",
       "      <th>2</th>\n",
       "      <td>POWERINDIA</td>\n",
       "    </tr>\n",
       "    <tr>\n",
       "      <th>3</th>\n",
       "      <td>ACC</td>\n",
       "    </tr>\n",
       "    <tr>\n",
       "      <th>4</th>\n",
       "      <td>AIAENG</td>\n",
       "    </tr>\n",
       "    <tr>\n",
       "      <th>...</th>\n",
       "      <td>...</td>\n",
       "    </tr>\n",
       "    <tr>\n",
       "      <th>496</th>\n",
       "      <td>YESBANK</td>\n",
       "    </tr>\n",
       "    <tr>\n",
       "      <th>497</th>\n",
       "      <td>ZEEL</td>\n",
       "    </tr>\n",
       "    <tr>\n",
       "      <th>498</th>\n",
       "      <td>ZENSARTECH</td>\n",
       "    </tr>\n",
       "    <tr>\n",
       "      <th>499</th>\n",
       "      <td>ZYDUSWELL</td>\n",
       "    </tr>\n",
       "    <tr>\n",
       "      <th>500</th>\n",
       "      <td>ECLERX</td>\n",
       "    </tr>\n",
       "  </tbody>\n",
       "</table>\n",
       "<p>501 rows × 1 columns</p>\n",
       "</div>"
      ],
      "text/plain": [
       "         Symbol\n",
       "0       3MINDIA\n",
       "1           ABB\n",
       "2    POWERINDIA\n",
       "3           ACC\n",
       "4        AIAENG\n",
       "..          ...\n",
       "496     YESBANK\n",
       "497        ZEEL\n",
       "498  ZENSARTECH\n",
       "499   ZYDUSWELL\n",
       "500      ECLERX\n",
       "\n",
       "[501 rows x 1 columns]"
      ]
     },
     "execution_count": 2,
     "metadata": {},
     "output_type": "execute_result"
    }
   ],
   "source": [
    "stocks = pd.read_csv('ind_nifty500list.csv')\n",
    "stocks"
   ]
  },
  {
   "cell_type": "markdown",
   "metadata": {},
   "source": [
    "## Acquiring real time data from the market\n",
    "\n",
    "Real time data for the market can be requested using API integration, which are often paid. However here I have used a free tool `nsetools` for our purpose. \n",
    "\n",
    "To install nsetools --> `pip install nsetools`\n",
    "\n",
    "nsetools documentation - [Click here](https://nsetools.readthedocs.io/en/latest/index.html) "
   ]
  },
  {
   "cell_type": "code",
   "execution_count": 17,
   "metadata": {},
   "outputs": [],
   "source": [
    "from secrets import ALPHA_API_TOKEN\n",
    "from nsetools import Nse\n",
    "nse = Nse()"
   ]
  },
  {
   "cell_type": "markdown",
   "metadata": {},
   "source": [
    "## Making Our First Request\n",
    "\n",
    "We need to import only the stock price for this project. Therefore we will use nsetools to get \n",
    "\n",
    "* Price of each stock\n",
    "\n"
   ]
  },
  {
   "cell_type": "code",
   "execution_count": 21,
   "metadata": {},
   "outputs": [
    {
     "data": {
      "text/plain": [
       "{'pricebandupper': 26163.2,\n",
       " 'symbol': '3MINDIA',\n",
       " 'applicableMargin': 17.19,\n",
       " 'bcEndDate': '26-AUG-20',\n",
       " 'totalSellQuantity': None,\n",
       " 'adhocMargin': None,\n",
       " 'companyName': '3M India Limited',\n",
       " 'marketType': 'N',\n",
       " 'exDate': '19-AUG-20',\n",
       " 'bcStartDate': '21-AUG-20',\n",
       " 'css_status_desc': 'Listed',\n",
       " 'dayHigh': 21900.0,\n",
       " 'basePrice': 21802.7,\n",
       " 'securityVar': 13.69,\n",
       " 'pricebandlower': 17442.2,\n",
       " 'sellQuantity5': None,\n",
       " 'sellQuantity4': None,\n",
       " 'sellQuantity3': None,\n",
       " 'cm_adj_high_dt': '05-MAR-20',\n",
       " 'sellQuantity2': None,\n",
       " 'dayLow': 21481.0,\n",
       " 'sellQuantity1': None,\n",
       " 'quantityTraded': 3462.0,\n",
       " 'pChange': '-0.04',\n",
       " 'totalTradedValue': 752.39,\n",
       " 'deliveryToTradedQuantity': 52.02,\n",
       " 'totalBuyQuantity': None,\n",
       " 'averagePrice': 21732.93,\n",
       " 'indexVar': None,\n",
       " 'cm_ffm': 6113.37,\n",
       " 'purpose': 'ANNUAL GENERAL MEETING',\n",
       " 'buyPrice2': None,\n",
       " 'secDate': '19-Feb-2021 00:00:00',\n",
       " 'buyPrice1': None,\n",
       " 'high52': 24349.9,\n",
       " 'previousClose': 21802.7,\n",
       " 'ndEndDate': None,\n",
       " 'low52': 15700.0,\n",
       " 'buyPrice4': None,\n",
       " 'buyPrice3': None,\n",
       " 'recordDate': None,\n",
       " 'deliveryQuantity': 1801.0,\n",
       " 'buyPrice5': None,\n",
       " 'priceBand': 20.0,\n",
       " 'extremeLossMargin': 3.5,\n",
       " 'cm_adj_low_dt': '25-MAR-20',\n",
       " 'varMargin': 13.69,\n",
       " 'sellPrice1': None,\n",
       " 'sellPrice2': None,\n",
       " 'totalTradedVolume': 3462.0,\n",
       " 'sellPrice3': None,\n",
       " 'sellPrice4': None,\n",
       " 'sellPrice5': None,\n",
       " 'change': '-8.70',\n",
       " 'surv_indicator': None,\n",
       " 'ndStartDate': None,\n",
       " 'buyQuantity4': None,\n",
       " 'isExDateFlag': False,\n",
       " 'buyQuantity3': None,\n",
       " 'buyQuantity2': None,\n",
       " 'buyQuantity1': None,\n",
       " 'series': 'EQ',\n",
       " 'faceValue': 10.0,\n",
       " 'buyQuantity5': None,\n",
       " 'closePrice': 21707.35,\n",
       " 'open': 21711.0,\n",
       " 'isinCode': 'INE470A01017',\n",
       " 'lastPrice': 21794.0}"
      ]
     },
     "execution_count": 21,
     "metadata": {},
     "output_type": "execute_result"
    }
   ],
   "source": [
    "symbol = '3MINDIA'\n",
    "data = nse.get_quote(symbol)\n",
    "data"
   ]
  },
  {
   "cell_type": "markdown",
   "metadata": {},
   "source": [
    "## Parsing Our Call\n",
    "\n",
    "The call that we executed in the last code block contains all of the information required to build our equal-weight NIFTY 500 strategy. \n",
    "\n",
    "With that said, the data isn't in a proper format yet. We need to parse it first."
   ]
  },
  {
   "cell_type": "code",
   "execution_count": 22,
   "metadata": {},
   "outputs": [
    {
     "name": "stdout",
     "output_type": "stream",
     "text": [
      "21794.0\n"
     ]
    }
   ],
   "source": [
    "price = data['lastPrice']\n",
    "print(price)"
   ]
  },
  {
   "cell_type": "markdown",
   "metadata": {},
   "source": [
    "## Adding Our Stocks Data to a Pandas DataFrame\n",
    "\n",
    "The next thing we need to do is add our stock's price and market capitalization to a pandas DataFrame. "
   ]
  },
  {
   "cell_type": "code",
   "execution_count": 23,
   "metadata": {},
   "outputs": [
    {
     "data": {
      "text/html": [
       "<div>\n",
       "<style scoped>\n",
       "    .dataframe tbody tr th:only-of-type {\n",
       "        vertical-align: middle;\n",
       "    }\n",
       "\n",
       "    .dataframe tbody tr th {\n",
       "        vertical-align: top;\n",
       "    }\n",
       "\n",
       "    .dataframe thead th {\n",
       "        text-align: right;\n",
       "    }\n",
       "</style>\n",
       "<table border=\"1\" class=\"dataframe\">\n",
       "  <thead>\n",
       "    <tr style=\"text-align: right;\">\n",
       "      <th></th>\n",
       "      <th>Ticker</th>\n",
       "      <th>Stock Price</th>\n",
       "      <th>Number of Shares to Buy</th>\n",
       "    </tr>\n",
       "  </thead>\n",
       "  <tbody>\n",
       "  </tbody>\n",
       "</table>\n",
       "</div>"
      ],
      "text/plain": [
       "Empty DataFrame\n",
       "Columns: [Ticker, Stock Price, Number of Shares to Buy]\n",
       "Index: []"
      ]
     },
     "execution_count": 23,
     "metadata": {},
     "output_type": "execute_result"
    }
   ],
   "source": [
    "my_columns = ['Ticker', 'Stock Price', 'Number of Shares to Buy']\n",
    "final_dataframe = pd.DataFrame(columns = my_columns)\n",
    "final_dataframe"
   ]
  },
  {
   "cell_type": "code",
   "execution_count": 26,
   "metadata": {},
   "outputs": [
    {
     "data": {
      "text/html": [
       "<div>\n",
       "<style scoped>\n",
       "    .dataframe tbody tr th:only-of-type {\n",
       "        vertical-align: middle;\n",
       "    }\n",
       "\n",
       "    .dataframe tbody tr th {\n",
       "        vertical-align: top;\n",
       "    }\n",
       "\n",
       "    .dataframe thead th {\n",
       "        text-align: right;\n",
       "    }\n",
       "</style>\n",
       "<table border=\"1\" class=\"dataframe\">\n",
       "  <thead>\n",
       "    <tr style=\"text-align: right;\">\n",
       "      <th></th>\n",
       "      <th>Ticker</th>\n",
       "      <th>Stock Price</th>\n",
       "      <th>Number of Shares to Buy</th>\n",
       "    </tr>\n",
       "  </thead>\n",
       "  <tbody>\n",
       "    <tr>\n",
       "      <th>0</th>\n",
       "      <td>3MINDIA</td>\n",
       "      <td>21794.0</td>\n",
       "      <td>N/A</td>\n",
       "    </tr>\n",
       "  </tbody>\n",
       "</table>\n",
       "</div>"
      ],
      "text/plain": [
       "    Ticker  Stock Price Number of Shares to Buy\n",
       "0  3MINDIA      21794.0                     N/A"
      ]
     },
     "execution_count": 26,
     "metadata": {},
     "output_type": "execute_result"
    }
   ],
   "source": [
    "final_dataframe.append(\n",
    "    pd.Series(\n",
    "    [\n",
    "        symbol,\n",
    "        price,\n",
    "        'N/A'\n",
    "    ],index = my_columns \n",
    "    ),ignore_index=True\n",
    ")"
   ]
  },
  {
   "cell_type": "markdown",
   "metadata": {},
   "source": [
    "## Looping Through The Tickers in Our List of Stocks\n",
    "\n",
    "Using the same logic that we outlined above, we can pull data for all NIFTY 500 stocks and store their data in the DataFrame using a `for` loop. This can take some time for 500 stocks."
   ]
  },
  {
   "cell_type": "code",
   "execution_count": 30,
   "metadata": {},
   "outputs": [],
   "source": [
    "final_dataframe = pd.DataFrame(columns=my_columns)\n",
    "for stock in stocks['Symbol']:\n",
    "    data = nse.get_quote(stock)\n",
    "    final_dataframe = final_dataframe.append(\n",
    "    pd.Series(\n",
    "    [\n",
    "        stock,\n",
    "        data['lastPrice'],\n",
    "        'N/A'\n",
    "    ],index = my_columns \n",
    "    ),ignore_index=True\n",
    ")"
   ]
  },
  {
   "cell_type": "code",
   "execution_count": 31,
   "metadata": {},
   "outputs": [
    {
     "data": {
      "text/html": [
       "<div>\n",
       "<style scoped>\n",
       "    .dataframe tbody tr th:only-of-type {\n",
       "        vertical-align: middle;\n",
       "    }\n",
       "\n",
       "    .dataframe tbody tr th {\n",
       "        vertical-align: top;\n",
       "    }\n",
       "\n",
       "    .dataframe thead th {\n",
       "        text-align: right;\n",
       "    }\n",
       "</style>\n",
       "<table border=\"1\" class=\"dataframe\">\n",
       "  <thead>\n",
       "    <tr style=\"text-align: right;\">\n",
       "      <th></th>\n",
       "      <th>Ticker</th>\n",
       "      <th>Stock Price</th>\n",
       "      <th>Number of Shares to Buy</th>\n",
       "    </tr>\n",
       "  </thead>\n",
       "  <tbody>\n",
       "    <tr>\n",
       "      <th>0</th>\n",
       "      <td>3MINDIA</td>\n",
       "      <td>21794.00</td>\n",
       "      <td>N/A</td>\n",
       "    </tr>\n",
       "    <tr>\n",
       "      <th>1</th>\n",
       "      <td>ABB</td>\n",
       "      <td>1518.00</td>\n",
       "      <td>N/A</td>\n",
       "    </tr>\n",
       "    <tr>\n",
       "      <th>2</th>\n",
       "      <td>POWERINDIA</td>\n",
       "      <td>1438.00</td>\n",
       "      <td>N/A</td>\n",
       "    </tr>\n",
       "    <tr>\n",
       "      <th>3</th>\n",
       "      <td>ACC</td>\n",
       "      <td>1749.95</td>\n",
       "      <td>N/A</td>\n",
       "    </tr>\n",
       "    <tr>\n",
       "      <th>4</th>\n",
       "      <td>AIAENG</td>\n",
       "      <td>1868.75</td>\n",
       "      <td>N/A</td>\n",
       "    </tr>\n",
       "    <tr>\n",
       "      <th>...</th>\n",
       "      <td>...</td>\n",
       "      <td>...</td>\n",
       "      <td>...</td>\n",
       "    </tr>\n",
       "    <tr>\n",
       "      <th>496</th>\n",
       "      <td>YESBANK</td>\n",
       "      <td>16.05</td>\n",
       "      <td>N/A</td>\n",
       "    </tr>\n",
       "    <tr>\n",
       "      <th>497</th>\n",
       "      <td>ZEEL</td>\n",
       "      <td>208.65</td>\n",
       "      <td>N/A</td>\n",
       "    </tr>\n",
       "    <tr>\n",
       "      <th>498</th>\n",
       "      <td>ZENSARTECH</td>\n",
       "      <td>251.00</td>\n",
       "      <td>N/A</td>\n",
       "    </tr>\n",
       "    <tr>\n",
       "      <th>499</th>\n",
       "      <td>ZYDUSWELL</td>\n",
       "      <td>1888.00</td>\n",
       "      <td>N/A</td>\n",
       "    </tr>\n",
       "    <tr>\n",
       "      <th>500</th>\n",
       "      <td>ECLERX</td>\n",
       "      <td>971.95</td>\n",
       "      <td>N/A</td>\n",
       "    </tr>\n",
       "  </tbody>\n",
       "</table>\n",
       "<p>501 rows × 3 columns</p>\n",
       "</div>"
      ],
      "text/plain": [
       "         Ticker  Stock Price Number of Shares to Buy\n",
       "0       3MINDIA     21794.00                     N/A\n",
       "1           ABB      1518.00                     N/A\n",
       "2    POWERINDIA      1438.00                     N/A\n",
       "3           ACC      1749.95                     N/A\n",
       "4        AIAENG      1868.75                     N/A\n",
       "..          ...          ...                     ...\n",
       "496     YESBANK        16.05                     N/A\n",
       "497        ZEEL       208.65                     N/A\n",
       "498  ZENSARTECH       251.00                     N/A\n",
       "499   ZYDUSWELL      1888.00                     N/A\n",
       "500      ECLERX       971.95                     N/A\n",
       "\n",
       "[501 rows x 3 columns]"
      ]
     },
     "execution_count": 31,
     "metadata": {},
     "output_type": "execute_result"
    }
   ],
   "source": [
    "final_dataframe"
   ]
  },
  {
   "cell_type": "markdown",
   "metadata": {},
   "source": [
    "## Calculating the Number of Shares to Buy\n",
    "\n",
    "As you can see in the DataFrame above, we stil haven't calculated the number of shares of each stock to buy.\n",
    "\n",
    "We'll do that next.\n",
    "\n",
    "For an equal weight index, equal capital is invested in each stock. Also, we will round floating points to the smaller nearest integer."
   ]
  },
  {
   "cell_type": "code",
   "execution_count": 39,
   "metadata": {},
   "outputs": [
    {
     "name": "stdout",
     "output_type": "stream",
     "text": [
      "Enter the size of your portfolio:1000000\n"
     ]
    }
   ],
   "source": [
    "portfolio_size = input('Enter the size of your portfolio:')\n",
    "\n",
    "try:\n",
    "    val = float(portfolio_size)\n",
    "except ValueError:\n",
    "    print('Portfolio size should be numeric')\n",
    "    portfolio_size = input('Enter the size of your portfolio:')\n",
    "    val=float(portfolio_size)\n",
    "    \n",
    "#assumption has been made that user will input numeric value the second time."
   ]
  },
  {
   "cell_type": "code",
   "execution_count": 40,
   "metadata": {},
   "outputs": [
    {
     "data": {
      "text/html": [
       "<div>\n",
       "<style scoped>\n",
       "    .dataframe tbody tr th:only-of-type {\n",
       "        vertical-align: middle;\n",
       "    }\n",
       "\n",
       "    .dataframe tbody tr th {\n",
       "        vertical-align: top;\n",
       "    }\n",
       "\n",
       "    .dataframe thead th {\n",
       "        text-align: right;\n",
       "    }\n",
       "</style>\n",
       "<table border=\"1\" class=\"dataframe\">\n",
       "  <thead>\n",
       "    <tr style=\"text-align: right;\">\n",
       "      <th></th>\n",
       "      <th>Ticker</th>\n",
       "      <th>Stock Price</th>\n",
       "      <th>Number of Shares to Buy</th>\n",
       "    </tr>\n",
       "  </thead>\n",
       "  <tbody>\n",
       "    <tr>\n",
       "      <th>0</th>\n",
       "      <td>3MINDIA</td>\n",
       "      <td>21794.00</td>\n",
       "      <td>0</td>\n",
       "    </tr>\n",
       "    <tr>\n",
       "      <th>1</th>\n",
       "      <td>ABB</td>\n",
       "      <td>1518.00</td>\n",
       "      <td>1</td>\n",
       "    </tr>\n",
       "    <tr>\n",
       "      <th>2</th>\n",
       "      <td>POWERINDIA</td>\n",
       "      <td>1438.00</td>\n",
       "      <td>1</td>\n",
       "    </tr>\n",
       "    <tr>\n",
       "      <th>3</th>\n",
       "      <td>ACC</td>\n",
       "      <td>1749.95</td>\n",
       "      <td>1</td>\n",
       "    </tr>\n",
       "    <tr>\n",
       "      <th>4</th>\n",
       "      <td>AIAENG</td>\n",
       "      <td>1868.75</td>\n",
       "      <td>1</td>\n",
       "    </tr>\n",
       "    <tr>\n",
       "      <th>...</th>\n",
       "      <td>...</td>\n",
       "      <td>...</td>\n",
       "      <td>...</td>\n",
       "    </tr>\n",
       "    <tr>\n",
       "      <th>496</th>\n",
       "      <td>YESBANK</td>\n",
       "      <td>16.05</td>\n",
       "      <td>124</td>\n",
       "    </tr>\n",
       "    <tr>\n",
       "      <th>497</th>\n",
       "      <td>ZEEL</td>\n",
       "      <td>208.65</td>\n",
       "      <td>9</td>\n",
       "    </tr>\n",
       "    <tr>\n",
       "      <th>498</th>\n",
       "      <td>ZENSARTECH</td>\n",
       "      <td>251.00</td>\n",
       "      <td>7</td>\n",
       "    </tr>\n",
       "    <tr>\n",
       "      <th>499</th>\n",
       "      <td>ZYDUSWELL</td>\n",
       "      <td>1888.00</td>\n",
       "      <td>1</td>\n",
       "    </tr>\n",
       "    <tr>\n",
       "      <th>500</th>\n",
       "      <td>ECLERX</td>\n",
       "      <td>971.95</td>\n",
       "      <td>2</td>\n",
       "    </tr>\n",
       "  </tbody>\n",
       "</table>\n",
       "<p>501 rows × 3 columns</p>\n",
       "</div>"
      ],
      "text/plain": [
       "         Ticker  Stock Price Number of Shares to Buy\n",
       "0       3MINDIA     21794.00                       0\n",
       "1           ABB      1518.00                       1\n",
       "2    POWERINDIA      1438.00                       1\n",
       "3           ACC      1749.95                       1\n",
       "4        AIAENG      1868.75                       1\n",
       "..          ...          ...                     ...\n",
       "496     YESBANK        16.05                     124\n",
       "497        ZEEL       208.65                       9\n",
       "498  ZENSARTECH       251.00                       7\n",
       "499   ZYDUSWELL      1888.00                       1\n",
       "500      ECLERX       971.95                       2\n",
       "\n",
       "[501 rows x 3 columns]"
      ]
     },
     "execution_count": 40,
     "metadata": {},
     "output_type": "execute_result"
    }
   ],
   "source": [
    "position_size = val/len(final_dataframe.index)\n",
    "#print(position_size)\n",
    "for i in range(0, len(final_dataframe.index)):\n",
    "    final_dataframe.loc[i,'Number of Shares to Buy']= math.floor(position_size/final_dataframe.loc[i,'Stock Price'])\n",
    "final_dataframe"
   ]
  },
  {
   "cell_type": "markdown",
   "metadata": {},
   "source": [
    "## Formatting Our Excel Output\n",
    "\n",
    "We will be using the XlsxWriter library for Python to create nicely-formatted Excel files. \n",
    "\n",
    "### Initializing our XlsxWriter Object"
   ]
  },
  {
   "cell_type": "code",
   "execution_count": 71,
   "metadata": {},
   "outputs": [],
   "source": [
    "writer = pd.ExcelWriter('recommended trades.xlsx', engine = 'xlsxwriter')\n",
    "final_dataframe.to_excel(writer, 'Recommended Trades', index = False)"
   ]
  },
  {
   "cell_type": "markdown",
   "metadata": {},
   "source": [
    "### Creating the Formats We'll Need For Our `.xlsx` File\n",
    "\n",
    "Formats include colors, fonts, and also symbols like `%` and `₹`. We'll need three main formats for our Excel document:\n",
    "* String format for tickers\n",
    "* ₹XX.XX format for stock prices\n",
    "* Integer format for the number of shares to purchase"
   ]
  },
  {
   "cell_type": "code",
   "execution_count": 72,
   "metadata": {},
   "outputs": [],
   "source": [
    "bg_colour = '#0a0a23'\n",
    "font_colour = '#ffffff'\n",
    "\n",
    "string_format = writer.book.add_format(\n",
    "    {\n",
    "        'font_color' : font_colour,\n",
    "        'bg_color' : bg_colour,\n",
    "        'border' : 1\n",
    "    }\n",
    ")\n",
    "\n",
    "rupee_format = writer.book.add_format(\n",
    "    {\n",
    "        'num_format' : '₹0.00',\n",
    "        'font_color' : font_colour,\n",
    "        'bg_color' : bg_colour,\n",
    "        'border' : 1\n",
    "    }\n",
    ")\n",
    "\n",
    "integer_format = writer.book.add_format(\n",
    "    {\n",
    "        'num_format' : '0',\n",
    "        'font_color' : font_colour,\n",
    "        'bg_color' : bg_colour,\n",
    "        'border' : 1\n",
    "    }\n",
    ")"
   ]
  },
  {
   "cell_type": "markdown",
   "metadata": {},
   "source": [
    "### Applying the Formats to the Columns of Our `.xlsx` File\n",
    "\n",
    "We can use the `set_column` method applied to the `writer.sheets['Recommended Trades']` object to apply formats to specific columns of our spreadsheets.\n",
    "\n",
    "Here's an example:\n",
    "\n",
    "```python\n",
    "writer.sheets['Recommended Trades'].set_column('B:B', #This tells the method to apply the format to column B\n",
    "                     18, #This tells the method to apply a column width of 18 pixels\n",
    "                     string_template #This applies the format 'string_template' to the column\n",
    "                    )\n",
    "```"
   ]
  },
  {
   "cell_type": "markdown",
   "metadata": {},
   "source": [
    "Let's simplify this by putting it in 2 loops:"
   ]
  },
  {
   "cell_type": "code",
   "execution_count": 74,
   "metadata": {},
   "outputs": [],
   "source": [
    "column_formats = {\n",
    "    'A' : ['Symbol', string_format],\n",
    "    'B' : ['Stock Price', rupee_format],\n",
    "    'C' : ['Number of Shares to Buy', integer_format]\n",
    "}\n",
    "for column in column_formats.keys():\n",
    "    writer.sheets['Recommended Trades'].set_column(f'{column}:{column}', 18, column_formats[column][1])\n",
    "    writer.sheets['Recommended Trades'].write(f'{column}1', column_formats[column][0], column_formats[column][1]) #this is for the column headers"
   ]
  },
  {
   "cell_type": "markdown",
   "metadata": {},
   "source": [
    "## Saving Our Excel Output\n",
    "\n",
    "Saving our Excel file is very easy:"
   ]
  },
  {
   "cell_type": "code",
   "execution_count": 75,
   "metadata": {},
   "outputs": [],
   "source": [
    "writer.save()"
   ]
  },
  {
   "cell_type": "markdown",
   "metadata": {},
   "source": [
    "This `.xlsx` file is shared with colleagues who make the necessary investments, giving us the position in Equal Weight NIFTY 500 index."
   ]
  }
 ],
 "metadata": {
  "kernelspec": {
   "display_name": "Python 3",
   "language": "python",
   "name": "python3"
  },
  "language_info": {
   "codemirror_mode": {
    "name": "ipython",
    "version": 3
   },
   "file_extension": ".py",
   "mimetype": "text/x-python",
   "name": "python",
   "nbconvert_exporter": "python",
   "pygments_lexer": "ipython3",
   "version": "3.8.3"
  }
 },
 "nbformat": 4,
 "nbformat_minor": 4
}
